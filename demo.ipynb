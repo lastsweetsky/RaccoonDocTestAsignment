{
 "cells": [
  {
   "cell_type": "markdown",
   "metadata": {},
   "source": [
    "# Demo of angle prediction\n"
   ]
  },
  {
   "cell_type": "markdown",
   "metadata": {},
   "source": [
    "##### 1. Import all necessary libraries and functions\n"
   ]
  },
  {
   "cell_type": "code",
   "execution_count": 3,
   "metadata": {},
   "outputs": [],
   "source": [
    "import numpy as np\n",
    "import tensorflow as tf\n",
    "\n",
    "from sklearn.model_selection import train_test_split\n",
    "from tensorflow.keras.optimizers import Adam\n",
    "from tensorflow.keras.callbacks import ModelCheckpoint, ReduceLROnPlateau, EarlyStopping\n",
    "\n",
    "from model import get_model\n",
    "from preprocess_data import get_data\n",
    "from main import load_image, Racoon\n",
    "from dataset_creation import change_filepath_in_json, get_list_of_possible_angles, process_images"
   ]
  },
  {
   "cell_type": "markdown",
   "metadata": {},
   "source": [
    "#### 2. Create dataset from initial images"
   ]
  },
  {
   "cell_type": "code",
   "execution_count": 4,
   "metadata": {},
   "outputs": [
    {
     "name": "stdout",
     "output_type": "stream",
     "text": [
      "Created images for initial_data/images/0.png\n",
      "Created images for initial_data/images/1.png\n",
      "Created images for initial_data/images/2.png\n",
      "Created images for initial_data/images/3.png\n",
      "Created images for initial_data/images/4.png\n",
      "Created images for initial_data/images/5.png\n",
      "Created images for initial_data/images/6.png\n",
      "Created images for initial_data/images/7.png\n",
      "Created images for initial_data/images/8.png\n",
      "Created images for initial_data/images/9.png\n",
      "Created images for initial_data/images/10.png\n"
     ]
    }
   ],
   "source": [
    "change_filepath_in_json()\n",
    "get_list_of_possible_angles(\"dataset/formatted_initial_data.json\")\n",
    "process_images(\"dataset/angles_data.json\")"
   ]
  },
  {
   "cell_type": "markdown",
   "metadata": {},
   "source": [
    "#### 3. Train your own model **(optional)**\n"
   ]
  },
  {
   "cell_type": "markdown",
   "metadata": {},
   "source": [
    "#### 3.1. Load the data"
   ]
  },
  {
   "cell_type": "code",
   "execution_count": 5,
   "metadata": {},
   "outputs": [
    {
     "data": {
      "text/plain": "((670, 200, 400, 3), (34, 200, 400, 3))"
     },
     "execution_count": 5,
     "metadata": {},
     "output_type": "execute_result"
    }
   ],
   "source": [
    "x, y = get_data(0, 670)\n",
    "x_train, x_val, y_train, y_val = train_test_split(\n",
    "    x, y, test_size=0.05, random_state=42\n",
    ")\n",
    "x.shape, x_val.shape"
   ]
  },
  {
   "cell_type": "markdown",
   "metadata": {},
   "source": [
    "#### 3.2. Train model\n"
   ]
  },
  {
   "cell_type": "code",
   "execution_count": null,
   "metadata": {
    "pycharm": {
     "is_executing": true
    }
   },
   "outputs": [],
   "source": [
    "model = get_model()\n",
    "\n",
    "# Compile the model\n",
    "optimizer = Adam(learning_rate=0.0001, clipvalue=1.0)\n",
    "model.compile(loss=\"mse\", optimizer=optimizer, metrics=[\"mae\"])\n",
    "\n",
    "# Define callbacks\n",
    "checkpoint = ModelCheckpoint(\n",
    "    \"best_model.h5\", monitor=\"val_loss\", verbose=1, save_best_only=True, mode=\"min\"\n",
    ")\n",
    "\n",
    "reduce_lr = ReduceLROnPlateau(\n",
    "    monitor=\"val_loss\", factor=0.5, patience=3, min_lr=1e-6\n",
    ")\n",
    "early_stopping = EarlyStopping(\n",
    "    monitor=\"val_loss\", patience=5, restore_best_weights=True\n",
    ")\n",
    "\n",
    "# Train the model with callbacks\n",
    "history = model.fit(\n",
    "    x_train,\n",
    "    y_train,\n",
    "    shuffle=True,\n",
    "    batch_size=64,\n",
    "    epochs=50,\n",
    "    validation_data=(x_val, y_val),\n",
    "    callbacks=[checkpoint, reduce_lr, early_stopping],\n",
    ")\n",
    "\n",
    "# Load the best model weights\n",
    "model.load_weights(\"best_model.h5\")\n",
    "\n",
    "tf.saved_model.save(model, \"saved_model\")\n"
   ]
  },
  {
   "cell_type": "markdown",
   "metadata": {},
   "source": [
    "#### 4. Get prediction\n"
   ]
  },
  {
   "cell_type": "code",
   "execution_count": 20,
   "metadata": {},
   "outputs": [
    {
     "name": "stdout",
     "output_type": "stream",
     "text": [
      "Predicted angle: 2.54\n"
     ]
    }
   ],
   "source": [
    "# Define the image path\n",
    "image_path = \"initial_data/images/6.png\"\n",
    "\n",
    "# Create an instance of the Racoon class\n",
    "racoon = Racoon()\n",
    "image = load_image(image_path)\n",
    "if image:\n",
    "    racoon.tranform(image, True)"
   ]
  },
  {
   "cell_type": "markdown",
   "source": [
    "Initial image:\n",
    "<img src=\"initial_data/images/6.png\" height=700 width=350>\n",
    "\n",
    "Image after rotation:\n",
    "<img src=\"initial_data/images/6_result.png\" height=700 width=350>"
   ],
   "metadata": {
    "collapsed": false
   }
  },
  {
   "cell_type": "code",
   "execution_count": 22,
   "outputs": [
    {
     "name": "stdout",
     "output_type": "stream",
     "text": [
      "Predicted angle: -0.26\n"
     ]
    }
   ],
   "source": [
    "# Define the image path\n",
    "image_path = \"initial_data/images/4.png\"\n",
    "\n",
    "# Create an instance of the Racoon class\n",
    "racoon = Racoon()\n",
    "image = load_image(image_path)\n",
    "if image:\n",
    "    racoon.tranform(image, True)"
   ],
   "metadata": {
    "collapsed": false
   }
  },
  {
   "cell_type": "markdown",
   "source": [
    "Initial image:\n",
    "<img src=\"initial_data/images/4.png\" height=700 width=350>\n",
    "\n",
    "Image after rotation:\n",
    "<img src=\"initial_data/images/4_result.png\" height=700 width=350>"
   ],
   "metadata": {
    "collapsed": false
   }
  },
  {
   "cell_type": "markdown",
   "source": [],
   "metadata": {
    "collapsed": false
   }
  },
  {
   "cell_type": "markdown",
   "source": [],
   "metadata": {
    "collapsed": false
   }
  }
 ],
 "metadata": {
  "kernelspec": {
   "display_name": "Python 3 (ipykernel)",
   "language": "python",
   "name": "python3"
  },
  "language_info": {
   "codemirror_mode": {
    "name": "ipython",
    "version": 3
   },
   "file_extension": ".py",
   "mimetype": "text/x-python",
   "name": "python",
   "nbconvert_exporter": "python",
   "pygments_lexer": "ipython3",
   "version": "3.10.13"
  },
  "orig_nbformat": 4
 },
 "nbformat": 4,
 "nbformat_minor": 2
}
